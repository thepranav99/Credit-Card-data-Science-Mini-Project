{
 "cells": [
  {
   "cell_type": "code",
   "execution_count": 1,
   "metadata": {},
   "outputs": [],
   "source": [
    "import pandas as pd\n",
    "import numpy as np\n",
    "import matplotlib.pyplot as plt\n",
    "import seaborn as sns\n",
    "import warnings\n",
    "warnings.filterwarnings('ignore')\n",
    "import scipy.stats as stats\n",
    "\n",
    "data = pd.read_csv(\"Data for Associate DS.csv\")"
   ]
  },
  {
   "cell_type": "code",
   "execution_count": 2,
   "metadata": {},
   "outputs": [
    {
     "data": {
      "text/plain": [
       "(8950, 18)"
      ]
     },
     "execution_count": 2,
     "metadata": {},
     "output_type": "execute_result"
    }
   ],
   "source": [
    "data.shape\n"
   ]
  },
  {
   "cell_type": "code",
   "execution_count": null,
   "metadata": {},
   "outputs": [],
   "source": []
  },
  {
   "cell_type": "code",
   "execution_count": 3,
   "metadata": {},
   "outputs": [
    {
     "data": {
      "text/html": [
       "<div>\n",
       "<style scoped>\n",
       "    .dataframe tbody tr th:only-of-type {\n",
       "        vertical-align: middle;\n",
       "    }\n",
       "\n",
       "    .dataframe tbody tr th {\n",
       "        vertical-align: top;\n",
       "    }\n",
       "\n",
       "    .dataframe thead th {\n",
       "        text-align: right;\n",
       "    }\n",
       "</style>\n",
       "<table border=\"1\" class=\"dataframe\">\n",
       "  <thead>\n",
       "    <tr style=\"text-align: right;\">\n",
       "      <th></th>\n",
       "      <th>BALANCE</th>\n",
       "      <th>BALANCE_FREQUENCY</th>\n",
       "      <th>PURCHASES</th>\n",
       "      <th>ONEOFF_PURCHASES</th>\n",
       "      <th>INSTALLMENTS_PURCHASES</th>\n",
       "      <th>CASH_ADVANCE</th>\n",
       "      <th>PURCHASES_FREQUENCY</th>\n",
       "      <th>ONEOFF_PURCHASES_FREQUENCY</th>\n",
       "      <th>PURCHASES_INSTALLMENTS_FREQUENCY</th>\n",
       "      <th>CASH_ADVANCE_FREQUENCY</th>\n",
       "      <th>CASH_ADVANCE_TRX</th>\n",
       "      <th>PURCHASES_TRX</th>\n",
       "      <th>CREDIT_LIMIT</th>\n",
       "      <th>PAYMENTS</th>\n",
       "      <th>MINIMUM_PAYMENTS</th>\n",
       "      <th>PRC_FULL_PAYMENT</th>\n",
       "      <th>TENURE</th>\n",
       "    </tr>\n",
       "  </thead>\n",
       "  <tbody>\n",
       "    <tr>\n",
       "      <th>count</th>\n",
       "      <td>8950.000000</td>\n",
       "      <td>8950.000000</td>\n",
       "      <td>8950.000000</td>\n",
       "      <td>8950.000000</td>\n",
       "      <td>8950.000000</td>\n",
       "      <td>8950.000000</td>\n",
       "      <td>8950.000000</td>\n",
       "      <td>8950.000000</td>\n",
       "      <td>8950.000000</td>\n",
       "      <td>8950.000000</td>\n",
       "      <td>8950.000000</td>\n",
       "      <td>8950.000000</td>\n",
       "      <td>8949.000000</td>\n",
       "      <td>8950.000000</td>\n",
       "      <td>8637.000000</td>\n",
       "      <td>8950.000000</td>\n",
       "      <td>8950.000000</td>\n",
       "    </tr>\n",
       "    <tr>\n",
       "      <th>mean</th>\n",
       "      <td>1564.474828</td>\n",
       "      <td>0.877271</td>\n",
       "      <td>1003.204834</td>\n",
       "      <td>592.437371</td>\n",
       "      <td>411.067645</td>\n",
       "      <td>978.871112</td>\n",
       "      <td>0.490351</td>\n",
       "      <td>0.202458</td>\n",
       "      <td>0.364437</td>\n",
       "      <td>0.135144</td>\n",
       "      <td>3.248827</td>\n",
       "      <td>14.709832</td>\n",
       "      <td>4494.449450</td>\n",
       "      <td>1733.143852</td>\n",
       "      <td>864.206542</td>\n",
       "      <td>0.153715</td>\n",
       "      <td>11.517318</td>\n",
       "    </tr>\n",
       "    <tr>\n",
       "      <th>std</th>\n",
       "      <td>2081.531879</td>\n",
       "      <td>0.236904</td>\n",
       "      <td>2136.634782</td>\n",
       "      <td>1659.887917</td>\n",
       "      <td>904.338115</td>\n",
       "      <td>2097.163877</td>\n",
       "      <td>0.401371</td>\n",
       "      <td>0.298336</td>\n",
       "      <td>0.397448</td>\n",
       "      <td>0.200121</td>\n",
       "      <td>6.824647</td>\n",
       "      <td>24.857649</td>\n",
       "      <td>3638.815725</td>\n",
       "      <td>2895.063757</td>\n",
       "      <td>2372.446607</td>\n",
       "      <td>0.292499</td>\n",
       "      <td>1.338331</td>\n",
       "    </tr>\n",
       "    <tr>\n",
       "      <th>min</th>\n",
       "      <td>0.000000</td>\n",
       "      <td>0.000000</td>\n",
       "      <td>0.000000</td>\n",
       "      <td>0.000000</td>\n",
       "      <td>0.000000</td>\n",
       "      <td>0.000000</td>\n",
       "      <td>0.000000</td>\n",
       "      <td>0.000000</td>\n",
       "      <td>0.000000</td>\n",
       "      <td>0.000000</td>\n",
       "      <td>0.000000</td>\n",
       "      <td>0.000000</td>\n",
       "      <td>50.000000</td>\n",
       "      <td>0.000000</td>\n",
       "      <td>0.019163</td>\n",
       "      <td>0.000000</td>\n",
       "      <td>6.000000</td>\n",
       "    </tr>\n",
       "    <tr>\n",
       "      <th>25%</th>\n",
       "      <td>128.281915</td>\n",
       "      <td>0.888889</td>\n",
       "      <td>39.635000</td>\n",
       "      <td>0.000000</td>\n",
       "      <td>0.000000</td>\n",
       "      <td>0.000000</td>\n",
       "      <td>0.083333</td>\n",
       "      <td>0.000000</td>\n",
       "      <td>0.000000</td>\n",
       "      <td>0.000000</td>\n",
       "      <td>0.000000</td>\n",
       "      <td>1.000000</td>\n",
       "      <td>1600.000000</td>\n",
       "      <td>383.276166</td>\n",
       "      <td>169.123707</td>\n",
       "      <td>0.000000</td>\n",
       "      <td>12.000000</td>\n",
       "    </tr>\n",
       "    <tr>\n",
       "      <th>50%</th>\n",
       "      <td>873.385231</td>\n",
       "      <td>1.000000</td>\n",
       "      <td>361.280000</td>\n",
       "      <td>38.000000</td>\n",
       "      <td>89.000000</td>\n",
       "      <td>0.000000</td>\n",
       "      <td>0.500000</td>\n",
       "      <td>0.083333</td>\n",
       "      <td>0.166667</td>\n",
       "      <td>0.000000</td>\n",
       "      <td>0.000000</td>\n",
       "      <td>7.000000</td>\n",
       "      <td>3000.000000</td>\n",
       "      <td>856.901546</td>\n",
       "      <td>312.343947</td>\n",
       "      <td>0.000000</td>\n",
       "      <td>12.000000</td>\n",
       "    </tr>\n",
       "    <tr>\n",
       "      <th>75%</th>\n",
       "      <td>2054.140036</td>\n",
       "      <td>1.000000</td>\n",
       "      <td>1110.130000</td>\n",
       "      <td>577.405000</td>\n",
       "      <td>468.637500</td>\n",
       "      <td>1113.821139</td>\n",
       "      <td>0.916667</td>\n",
       "      <td>0.300000</td>\n",
       "      <td>0.750000</td>\n",
       "      <td>0.222222</td>\n",
       "      <td>4.000000</td>\n",
       "      <td>17.000000</td>\n",
       "      <td>6500.000000</td>\n",
       "      <td>1901.134317</td>\n",
       "      <td>825.485459</td>\n",
       "      <td>0.142857</td>\n",
       "      <td>12.000000</td>\n",
       "    </tr>\n",
       "    <tr>\n",
       "      <th>max</th>\n",
       "      <td>19043.138560</td>\n",
       "      <td>1.000000</td>\n",
       "      <td>49039.570000</td>\n",
       "      <td>40761.250000</td>\n",
       "      <td>22500.000000</td>\n",
       "      <td>47137.211760</td>\n",
       "      <td>1.000000</td>\n",
       "      <td>1.000000</td>\n",
       "      <td>1.000000</td>\n",
       "      <td>1.500000</td>\n",
       "      <td>123.000000</td>\n",
       "      <td>358.000000</td>\n",
       "      <td>30000.000000</td>\n",
       "      <td>50721.483360</td>\n",
       "      <td>76406.207520</td>\n",
       "      <td>1.000000</td>\n",
       "      <td>12.000000</td>\n",
       "    </tr>\n",
       "  </tbody>\n",
       "</table>\n",
       "</div>"
      ],
      "text/plain": [
       "            BALANCE  BALANCE_FREQUENCY     PURCHASES  ONEOFF_PURCHASES  \\\n",
       "count   8950.000000        8950.000000   8950.000000       8950.000000   \n",
       "mean    1564.474828           0.877271   1003.204834        592.437371   \n",
       "std     2081.531879           0.236904   2136.634782       1659.887917   \n",
       "min        0.000000           0.000000      0.000000          0.000000   \n",
       "25%      128.281915           0.888889     39.635000          0.000000   \n",
       "50%      873.385231           1.000000    361.280000         38.000000   \n",
       "75%     2054.140036           1.000000   1110.130000        577.405000   \n",
       "max    19043.138560           1.000000  49039.570000      40761.250000   \n",
       "\n",
       "       INSTALLMENTS_PURCHASES  CASH_ADVANCE  PURCHASES_FREQUENCY  \\\n",
       "count             8950.000000   8950.000000          8950.000000   \n",
       "mean               411.067645    978.871112             0.490351   \n",
       "std                904.338115   2097.163877             0.401371   \n",
       "min                  0.000000      0.000000             0.000000   \n",
       "25%                  0.000000      0.000000             0.083333   \n",
       "50%                 89.000000      0.000000             0.500000   \n",
       "75%                468.637500   1113.821139             0.916667   \n",
       "max              22500.000000  47137.211760             1.000000   \n",
       "\n",
       "       ONEOFF_PURCHASES_FREQUENCY  PURCHASES_INSTALLMENTS_FREQUENCY  \\\n",
       "count                 8950.000000                       8950.000000   \n",
       "mean                     0.202458                          0.364437   \n",
       "std                      0.298336                          0.397448   \n",
       "min                      0.000000                          0.000000   \n",
       "25%                      0.000000                          0.000000   \n",
       "50%                      0.083333                          0.166667   \n",
       "75%                      0.300000                          0.750000   \n",
       "max                      1.000000                          1.000000   \n",
       "\n",
       "       CASH_ADVANCE_FREQUENCY  CASH_ADVANCE_TRX  PURCHASES_TRX  CREDIT_LIMIT  \\\n",
       "count             8950.000000       8950.000000    8950.000000   8949.000000   \n",
       "mean                 0.135144          3.248827      14.709832   4494.449450   \n",
       "std                  0.200121          6.824647      24.857649   3638.815725   \n",
       "min                  0.000000          0.000000       0.000000     50.000000   \n",
       "25%                  0.000000          0.000000       1.000000   1600.000000   \n",
       "50%                  0.000000          0.000000       7.000000   3000.000000   \n",
       "75%                  0.222222          4.000000      17.000000   6500.000000   \n",
       "max                  1.500000        123.000000     358.000000  30000.000000   \n",
       "\n",
       "           PAYMENTS  MINIMUM_PAYMENTS  PRC_FULL_PAYMENT       TENURE  \n",
       "count   8950.000000       8637.000000       8950.000000  8950.000000  \n",
       "mean    1733.143852        864.206542          0.153715    11.517318  \n",
       "std     2895.063757       2372.446607          0.292499     1.338331  \n",
       "min        0.000000          0.019163          0.000000     6.000000  \n",
       "25%      383.276166        169.123707          0.000000    12.000000  \n",
       "50%      856.901546        312.343947          0.000000    12.000000  \n",
       "75%     1901.134317        825.485459          0.142857    12.000000  \n",
       "max    50721.483360      76406.207520          1.000000    12.000000  "
      ]
     },
     "execution_count": 3,
     "metadata": {},
     "output_type": "execute_result"
    }
   ],
   "source": [
    "data.describe()"
   ]
  },
  {
   "cell_type": "markdown",
   "metadata": {},
   "source": [
    "### Dealing the missing data "
   ]
  },
  {
   "cell_type": "code",
   "execution_count": 4,
   "metadata": {},
   "outputs": [
    {
     "data": {
      "text/plain": [
       "CUST_ID                               0\n",
       "BALANCE                               0\n",
       "BALANCE_FREQUENCY                     0\n",
       "PURCHASES                             0\n",
       "ONEOFF_PURCHASES                      0\n",
       "INSTALLMENTS_PURCHASES                0\n",
       "CASH_ADVANCE                          0\n",
       "PURCHASES_FREQUENCY                   0\n",
       "ONEOFF_PURCHASES_FREQUENCY            0\n",
       "PURCHASES_INSTALLMENTS_FREQUENCY      0\n",
       "CASH_ADVANCE_FREQUENCY                0\n",
       "CASH_ADVANCE_TRX                      0\n",
       "PURCHASES_TRX                         0\n",
       "CREDIT_LIMIT                          1\n",
       "PAYMENTS                              0\n",
       "MINIMUM_PAYMENTS                    313\n",
       "PRC_FULL_PAYMENT                      0\n",
       "TENURE                                0\n",
       "dtype: int64"
      ]
     },
     "execution_count": 4,
     "metadata": {},
     "output_type": "execute_result"
    }
   ],
   "source": [
    "data.isnull().sum()"
   ]
  },
  {
   "cell_type": "code",
   "execution_count": 5,
   "metadata": {},
   "outputs": [
    {
     "data": {
      "text/plain": [
       "CUST_ID                             0\n",
       "BALANCE                             0\n",
       "BALANCE_FREQUENCY                   0\n",
       "PURCHASES                           0\n",
       "ONEOFF_PURCHASES                    0\n",
       "INSTALLMENTS_PURCHASES              0\n",
       "CASH_ADVANCE                        0\n",
       "PURCHASES_FREQUENCY                 0\n",
       "ONEOFF_PURCHASES_FREQUENCY          0\n",
       "PURCHASES_INSTALLMENTS_FREQUENCY    0\n",
       "CASH_ADVANCE_FREQUENCY              0\n",
       "CASH_ADVANCE_TRX                    0\n",
       "PURCHASES_TRX                       0\n",
       "CREDIT_LIMIT                        0\n",
       "PAYMENTS                            0\n",
       "MINIMUM_PAYMENTS                    0\n",
       "PRC_FULL_PAYMENT                    0\n",
       "TENURE                              0\n",
       "dtype: int64"
      ]
     },
     "execution_count": 5,
     "metadata": {},
     "output_type": "execute_result"
    }
   ],
   "source": [
    "data['MINIMUM_PAYMENTS'] = data['MINIMUM_PAYMENTS'].fillna(data['MINIMUM_PAYMENTS'].mean())\n",
    "data['CREDIT_LIMIT'] = data['CREDIT_LIMIT'].fillna(data['MINIMUM_PAYMENTS'].mean())\n",
    "data.isnull().sum()"
   ]
  },
  {
   "cell_type": "markdown",
   "metadata": {},
   "source": [
    "### Advanced data preparation: Build an ‘enriched’ customer profile by deriving “intelligent” KPIs:"
   ]
  },
  {
   "cell_type": "markdown",
   "metadata": {},
   "source": [
    "#### Monthly average purchase"
   ]
  },
  {
   "cell_type": "code",
   "execution_count": 6,
   "metadata": {},
   "outputs": [
    {
     "data": {
      "text/plain": [
       "0      7.950000\n",
       "1      0.000000\n",
       "2     64.430833\n",
       "3    124.916667\n",
       "4      1.333333\n",
       "Name: Average_Monthly_Purchase, dtype: float64"
      ]
     },
     "execution_count": 6,
     "metadata": {},
     "output_type": "execute_result"
    }
   ],
   "source": [
    "data['Average_Monthly_Purchase']=data['PURCHASES']/data['TENURE']\n",
    "data['Average_Monthly_Purchase'].head()"
   ]
  },
  {
   "cell_type": "markdown",
   "metadata": {},
   "source": [
    "#### Monthly cash advance"
   ]
  },
  {
   "cell_type": "code",
   "execution_count": 7,
   "metadata": {},
   "outputs": [
    {
     "data": {
      "text/plain": [
       "0      0.000000\n",
       "1    536.912124\n",
       "2      0.000000\n",
       "3     17.149001\n",
       "4      0.000000\n",
       "Name: Monthly_CashAdvance, dtype: float64"
      ]
     },
     "execution_count": 7,
     "metadata": {},
     "output_type": "execute_result"
    }
   ],
   "source": [
    "data['Monthly_CashAdvance']=data['CASH_ADVANCE']/data['TENURE']\n",
    "data['Monthly_CashAdvance'].head()"
   ]
  },
  {
   "cell_type": "markdown",
   "metadata": {},
   "source": [
    "#### Purchases by type (one-off, installments)"
   ]
  },
  {
   "cell_type": "code",
   "execution_count": 8,
   "metadata": {},
   "outputs": [],
   "source": [
    "def purchase_type(data):\n",
    "    if (data['ONEOFF_PURCHASES']==0) & (data['INSTALLMENTS_PURCHASES']==0):\n",
    "        return 'None'\n",
    "    if (data['ONEOFF_PURCHASES']==0) & (data['INSTALLMENTS_PURCHASES']>0):\n",
    "        return 'INSTALLMENTS_PURCHASE'\n",
    "    if (data['ONEOFF_PURCHASES']>0) & (data['INSTALLMENTS_PURCHASES']>0):\n",
    "         return 'Both'\n",
    "    if (data['ONEOFF_PURCHASES']>0) & (data['INSTALLMENTS_PURCHASES']==0):\n",
    "        return 'ONEOFF_PURCHASE'\n",
    "    \n",
    "data['purchase_type']=data.apply(purchase_type,axis=1)"
   ]
  },
  {
   "cell_type": "code",
   "execution_count": 9,
   "metadata": {},
   "outputs": [
    {
     "data": {
      "text/plain": [
       "Both                     2774\n",
       "INSTALLMENTS_PURCHASE    2260\n",
       "None                     2042\n",
       "ONEOFF_PURCHASE          1874\n",
       "Name: purchase_type, dtype: int64"
      ]
     },
     "execution_count": 9,
     "metadata": {},
     "output_type": "execute_result"
    }
   ],
   "source": [
    "data['purchase_type'].value_counts()"
   ]
  },
  {
   "cell_type": "markdown",
   "metadata": {},
   "source": [
    "#### Average amount per purchase and cash advance transaction,"
   ]
  },
  {
   "cell_type": "code",
   "execution_count": 10,
   "metadata": {},
   "outputs": [
    {
     "data": {
      "text/plain": [
       "0      47.700000\n",
       "1            NaN\n",
       "2      64.430833\n",
       "3    1499.000000\n",
       "4      16.000000\n",
       "Name: AVG_AMT_PER_PURCHASE, dtype: float64"
      ]
     },
     "execution_count": 10,
     "metadata": {},
     "output_type": "execute_result"
    }
   ],
   "source": [
    "data['AVG_AMT_PER_PURCHASE']=data['PURCHASES']/data['PURCHASES_TRX']\n",
    "data['AVG_AMT_PER_PURCHASE'].head()"
   ]
  },
  {
   "cell_type": "code",
   "execution_count": 11,
   "metadata": {},
   "outputs": [
    {
     "data": {
      "text/plain": [
       "0            NaN\n",
       "1    1610.736371\n",
       "2            NaN\n",
       "3     205.788017\n",
       "4            NaN\n",
       "Name: AVG_CASH_ADVANCE_PER_PURCHASE, dtype: float64"
      ]
     },
     "execution_count": 11,
     "metadata": {},
     "output_type": "execute_result"
    }
   ],
   "source": [
    "data['AVG_CASH_ADVANCE_PER_PURCHASE']=data['CASH_ADVANCE']/data['CASH_ADVANCE_TRX']\n",
    "data['AVG_CASH_ADVANCE_PER_PURCHASE'].head()"
   ]
  },
  {
   "cell_type": "markdown",
   "metadata": {},
   "source": [
    "#### Limit Usage"
   ]
  },
  {
   "cell_type": "code",
   "execution_count": 12,
   "metadata": {},
   "outputs": [
    {
     "data": {
      "text/plain": [
       "0    0.040901\n",
       "1    0.457495\n",
       "2    0.332687\n",
       "3    0.222223\n",
       "4    0.681429\n",
       "Name: Limit_Usage, dtype: float64"
      ]
     },
     "execution_count": 12,
     "metadata": {},
     "output_type": "execute_result"
    }
   ],
   "source": [
    "data['Limit_Usage']=data['BALANCE']/data['CREDIT_LIMIT']\n",
    "data['Limit_Usage'].head()"
   ]
  },
  {
   "cell_type": "markdown",
   "metadata": {},
   "source": [
    "#### Payments to minimum payments ratio"
   ]
  },
  {
   "cell_type": "code",
   "execution_count": 13,
   "metadata": {},
   "outputs": [
    {
     "data": {
      "text/plain": [
       "0    1.446508\n",
       "1    3.826241\n",
       "2    0.991682\n",
       "3    0.000000\n",
       "4    2.771075\n",
       "Name: PtoMP, dtype: float64"
      ]
     },
     "execution_count": 13,
     "metadata": {},
     "output_type": "execute_result"
    }
   ],
   "source": [
    "data['PtoMP']=data['PAYMENTS']/data['MINIMUM_PAYMENTS']\n",
    "data['PtoMP'].head()"
   ]
  },
  {
   "cell_type": "markdown",
   "metadata": {},
   "source": [
    "#### Advanced reporting: Use the derived KPIs to gain insight on the customer profiles.\n"
   ]
  },
  {
   "cell_type": "code",
   "execution_count": 14,
   "metadata": {},
   "outputs": [
    {
     "data": {
      "text/plain": [
       "Text(0.5, 1.0, 'average monthly cash advance by different Purchase type ')"
      ]
     },
     "execution_count": 14,
     "metadata": {},
     "output_type": "execute_result"
    },
    {
     "data": {
      "image/png": "[encoded data removed]",
      "text/plain": [
       "<Figure size 432x288 with 1 Axes>"
      ]
     },
     "metadata": {
      "needs_background": "light"
     },
     "output_type": "display_data"
    }
   ],
   "source": [
    "x = data.groupby('purchase_type')['Monthly_CashAdvance'].mean()\n",
    "x.plot.barh()\n",
    "plt.title('average monthly cash advance by different Purchase type ')"
   ]
  },
  {
   "cell_type": "markdown",
   "metadata": {},
   "source": [
    "##### customers which take installment purchases have least monthly cash advance whereas customers who don't take either oneoff or installments take most cash advance."
   ]
  },
  {
   "cell_type": "code",
   "execution_count": 15,
   "metadata": {},
   "outputs": [
    {
     "data": {
      "text/plain": [
       "Text(0.5, 1.0, 'average limit usagage of different Purchase type ')"
      ]
     },
     "execution_count": 15,
     "metadata": {},
     "output_type": "execute_result"
    },
    {
     "data": {
      "image/png": "[encoded data removed]",
      "text/plain": [
       "<Figure size 432x288 with 1 Axes>"
      ]
     },
     "metadata": {
      "needs_background": "light"
     },
     "output_type": "display_data"
    }
   ],
   "source": [
    "x = data.groupby('purchase_type')['Limit_Usage'].mean()\n",
    "x.plot.barh()\n",
    "plt.title('average limit usagage of different Purchase type ')"
   ]
  },
  {
   "cell_type": "markdown",
   "metadata": {},
   "source": [
    "#### customers which take installment purchases have least limit usage whereas customers who don't take either oneoff or installments have greater limit usage. "
   ]
  },
  {
   "cell_type": "code",
   "execution_count": 16,
   "metadata": {},
   "outputs": [
    {
     "data": {
      "text/plain": [
       "Text(0.5, 1.0, 'average payment to min payment of different Purchase type ')"
      ]
     },
     "execution_count": 16,
     "metadata": {},
     "output_type": "execute_result"
    },
    {
     "data": {
      "image/png": "[encoded data removed]",
      "text/plain": [
       "<Figure size 432x288 with 1 Axes>"
      ]
     },
     "metadata": {
      "needs_background": "light"
     },
     "output_type": "display_data"
    }
   ],
   "source": [
    "x = data.groupby('purchase_type')['PtoMP'].mean()\n",
    "x.plot.barh()\n",
    "plt.title('average payment to min payment of different Purchase type ')"
   ]
  },
  {
   "cell_type": "markdown",
   "metadata": {},
   "source": [
    "##### customers paying installments have greater payment to min payment ratio"
   ]
  },
  {
   "cell_type": "markdown",
   "metadata": {},
   "source": [
    "### Identification of the relationships/ affinities between services."
   ]
  },
  {
   "cell_type": "code",
   "execution_count": 17,
   "metadata": {},
   "outputs": [
    {
     "data": {
      "text/html": [
       "<div>\n",
       "<style scoped>\n",
       "    .dataframe tbody tr th:only-of-type {\n",
       "        vertical-align: middle;\n",
       "    }\n",
       "\n",
       "    .dataframe tbody tr th {\n",
       "        vertical-align: top;\n",
       "    }\n",
       "\n",
       "    .dataframe thead th {\n",
       "        text-align: right;\n",
       "    }\n",
       "</style>\n",
       "<table border=\"1\" class=\"dataframe\">\n",
       "  <thead>\n",
       "    <tr style=\"text-align: right;\">\n",
       "      <th></th>\n",
       "      <th>BALANCE</th>\n",
       "      <th>BALANCE_FREQUENCY</th>\n",
       "      <th>PURCHASES</th>\n",
       "      <th>ONEOFF_PURCHASES</th>\n",
       "      <th>INSTALLMENTS_PURCHASES</th>\n",
       "      <th>CASH_ADVANCE</th>\n",
       "      <th>PURCHASES_FREQUENCY</th>\n",
       "      <th>ONEOFF_PURCHASES_FREQUENCY</th>\n",
       "      <th>PURCHASES_INSTALLMENTS_FREQUENCY</th>\n",
       "      <th>CASH_ADVANCE_FREQUENCY</th>\n",
       "      <th>...</th>\n",
       "      <th>PAYMENTS</th>\n",
       "      <th>MINIMUM_PAYMENTS</th>\n",
       "      <th>PRC_FULL_PAYMENT</th>\n",
       "      <th>TENURE</th>\n",
       "      <th>Average_Monthly_Purchase</th>\n",
       "      <th>Monthly_CashAdvance</th>\n",
       "      <th>AVG_AMT_PER_PURCHASE</th>\n",
       "      <th>AVG_CASH_ADVANCE_PER_PURCHASE</th>\n",
       "      <th>Limit_Usage</th>\n",
       "      <th>PtoMP</th>\n",
       "    </tr>\n",
       "  </thead>\n",
       "  <tbody>\n",
       "    <tr>\n",
       "      <th>BALANCE</th>\n",
       "      <td>1.000000</td>\n",
       "      <td>0.322412</td>\n",
       "      <td>0.181261</td>\n",
       "      <td>0.164350</td>\n",
       "      <td>0.126469</td>\n",
       "      <td>0.496692</td>\n",
       "      <td>-0.077944</td>\n",
       "      <td>0.073166</td>\n",
       "      <td>-0.063186</td>\n",
       "      <td>0.449218</td>\n",
       "      <td>...</td>\n",
       "      <td>0.322802</td>\n",
       "      <td>0.394282</td>\n",
       "      <td>-0.318959</td>\n",
       "      <td>0.072692</td>\n",
       "      <td>0.179711</td>\n",
       "      <td>0.475431</td>\n",
       "      <td>0.044953</td>\n",
       "      <td>0.123739</td>\n",
       "      <td>0.503556</td>\n",
       "      <td>-0.039302</td>\n",
       "    </tr>\n",
       "    <tr>\n",
       "      <th>BALANCE_FREQUENCY</th>\n",
       "      <td>0.322412</td>\n",
       "      <td>1.000000</td>\n",
       "      <td>0.133674</td>\n",
       "      <td>0.104323</td>\n",
       "      <td>0.124292</td>\n",
       "      <td>0.099388</td>\n",
       "      <td>0.229715</td>\n",
       "      <td>0.202415</td>\n",
       "      <td>0.176079</td>\n",
       "      <td>0.191873</td>\n",
       "      <td>...</td>\n",
       "      <td>0.065008</td>\n",
       "      <td>0.114249</td>\n",
       "      <td>-0.095082</td>\n",
       "      <td>0.119776</td>\n",
       "      <td>0.131281</td>\n",
       "      <td>0.086020</td>\n",
       "      <td>-0.091833</td>\n",
       "      <td>-0.151270</td>\n",
       "      <td>0.404650</td>\n",
       "      <td>-0.088628</td>\n",
       "    </tr>\n",
       "    <tr>\n",
       "      <th>PURCHASES</th>\n",
       "      <td>0.181261</td>\n",
       "      <td>0.133674</td>\n",
       "      <td>1.000000</td>\n",
       "      <td>0.916845</td>\n",
       "      <td>0.679896</td>\n",
       "      <td>-0.051474</td>\n",
       "      <td>0.393017</td>\n",
       "      <td>0.498430</td>\n",
       "      <td>0.315567</td>\n",
       "      <td>-0.120143</td>\n",
       "      <td>...</td>\n",
       "      <td>0.603264</td>\n",
       "      <td>0.093515</td>\n",
       "      <td>0.180379</td>\n",
       "      <td>0.086288</td>\n",
       "      <td>0.995845</td>\n",
       "      <td>-0.055473</td>\n",
       "      <td>0.216188</td>\n",
       "      <td>-0.002055</td>\n",
       "      <td>-0.057411</td>\n",
       "      <td>0.016721</td>\n",
       "    </tr>\n",
       "    <tr>\n",
       "      <th>ONEOFF_PURCHASES</th>\n",
       "      <td>0.164350</td>\n",
       "      <td>0.104323</td>\n",
       "      <td>0.916845</td>\n",
       "      <td>1.000000</td>\n",
       "      <td>0.330622</td>\n",
       "      <td>-0.031326</td>\n",
       "      <td>0.264937</td>\n",
       "      <td>0.524891</td>\n",
       "      <td>0.127729</td>\n",
       "      <td>-0.082628</td>\n",
       "      <td>...</td>\n",
       "      <td>0.567292</td>\n",
       "      <td>0.048597</td>\n",
       "      <td>0.132763</td>\n",
       "      <td>0.064150</td>\n",
       "      <td>0.913060</td>\n",
       "      <td>-0.034545</td>\n",
       "      <td>0.238748</td>\n",
       "      <td>-0.007964</td>\n",
       "      <td>-0.042214</td>\n",
       "      <td>0.010249</td>\n",
       "    </tr>\n",
       "    <tr>\n",
       "      <th>INSTALLMENTS_PURCHASES</th>\n",
       "      <td>0.126469</td>\n",
       "      <td>0.124292</td>\n",
       "      <td>0.679896</td>\n",
       "      <td>0.330622</td>\n",
       "      <td>1.000000</td>\n",
       "      <td>-0.064244</td>\n",
       "      <td>0.442418</td>\n",
       "      <td>0.214042</td>\n",
       "      <td>0.511351</td>\n",
       "      <td>-0.132318</td>\n",
       "      <td>...</td>\n",
       "      <td>0.384084</td>\n",
       "      <td>0.131687</td>\n",
       "      <td>0.182569</td>\n",
       "      <td>0.086143</td>\n",
       "      <td>0.677024</td>\n",
       "      <td>-0.067782</td>\n",
       "      <td>0.065930</td>\n",
       "      <td>0.009789</td>\n",
       "      <td>-0.058266</td>\n",
       "      <td>0.020694</td>\n",
       "    </tr>\n",
       "    <tr>\n",
       "      <th>CASH_ADVANCE</th>\n",
       "      <td>0.496692</td>\n",
       "      <td>0.099388</td>\n",
       "      <td>-0.051474</td>\n",
       "      <td>-0.031326</td>\n",
       "      <td>-0.064244</td>\n",
       "      <td>1.000000</td>\n",
       "      <td>-0.215507</td>\n",
       "      <td>-0.086754</td>\n",
       "      <td>-0.177070</td>\n",
       "      <td>0.628522</td>\n",
       "      <td>...</td>\n",
       "      <td>0.453238</td>\n",
       "      <td>0.139223</td>\n",
       "      <td>-0.152935</td>\n",
       "      <td>-0.068312</td>\n",
       "      <td>-0.047502</td>\n",
       "      <td>0.976364</td>\n",
       "      <td>0.020150</td>\n",
       "      <td>0.362811</td>\n",
       "      <td>0.215199</td>\n",
       "      <td>-0.003291</td>\n",
       "    </tr>\n",
       "    <tr>\n",
       "      <th>PURCHASES_FREQUENCY</th>\n",
       "      <td>-0.077944</td>\n",
       "      <td>0.229715</td>\n",
       "      <td>0.393017</td>\n",
       "      <td>0.264937</td>\n",
       "      <td>0.442418</td>\n",
       "      <td>-0.215507</td>\n",
       "      <td>1.000000</td>\n",
       "      <td>0.501343</td>\n",
       "      <td>0.862934</td>\n",
       "      <td>-0.308478</td>\n",
       "      <td>...</td>\n",
       "      <td>0.103464</td>\n",
       "      <td>0.002976</td>\n",
       "      <td>0.305802</td>\n",
       "      <td>0.061506</td>\n",
       "      <td>0.395337</td>\n",
       "      <td>-0.215786</td>\n",
       "      <td>-0.250120</td>\n",
       "      <td>-0.054391</td>\n",
       "      <td>-0.201788</td>\n",
       "      <td>0.011536</td>\n",
       "    </tr>\n",
       "    <tr>\n",
       "      <th>ONEOFF_PURCHASES_FREQUENCY</th>\n",
       "      <td>0.073166</td>\n",
       "      <td>0.202415</td>\n",
       "      <td>0.498430</td>\n",
       "      <td>0.524891</td>\n",
       "      <td>0.214042</td>\n",
       "      <td>-0.086754</td>\n",
       "      <td>0.501343</td>\n",
       "      <td>1.000000</td>\n",
       "      <td>0.142329</td>\n",
       "      <td>-0.111716</td>\n",
       "      <td>...</td>\n",
       "      <td>0.243537</td>\n",
       "      <td>-0.029963</td>\n",
       "      <td>0.157531</td>\n",
       "      <td>0.082466</td>\n",
       "      <td>0.499711</td>\n",
       "      <td>-0.089034</td>\n",
       "      <td>-0.015402</td>\n",
       "      <td>-0.053703</td>\n",
       "      <td>-0.092010</td>\n",
       "      <td>-0.004466</td>\n",
       "    </tr>\n",
       "    <tr>\n",
       "      <th>PURCHASES_INSTALLMENTS_FREQUENCY</th>\n",
       "      <td>-0.063186</td>\n",
       "      <td>0.176079</td>\n",
       "      <td>0.315567</td>\n",
       "      <td>0.127729</td>\n",
       "      <td>0.511351</td>\n",
       "      <td>-0.177070</td>\n",
       "      <td>0.862934</td>\n",
       "      <td>0.142329</td>\n",
       "      <td>1.000000</td>\n",
       "      <td>-0.262958</td>\n",
       "      <td>...</td>\n",
       "      <td>0.085551</td>\n",
       "      <td>0.029590</td>\n",
       "      <td>0.250087</td>\n",
       "      <td>0.073275</td>\n",
       "      <td>0.314136</td>\n",
       "      <td>-0.179333</td>\n",
       "      <td>-0.239631</td>\n",
       "      <td>-0.043198</td>\n",
       "      <td>-0.161424</td>\n",
       "      <td>0.018024</td>\n",
       "    </tr>\n",
       "    <tr>\n",
       "      <th>CASH_ADVANCE_FREQUENCY</th>\n",
       "      <td>0.449218</td>\n",
       "      <td>0.191873</td>\n",
       "      <td>-0.120143</td>\n",
       "      <td>-0.082628</td>\n",
       "      <td>-0.132318</td>\n",
       "      <td>0.628522</td>\n",
       "      <td>-0.308478</td>\n",
       "      <td>-0.111716</td>\n",
       "      <td>-0.262958</td>\n",
       "      <td>1.000000</td>\n",
       "      <td>...</td>\n",
       "      <td>0.183192</td>\n",
       "      <td>0.097898</td>\n",
       "      <td>-0.249773</td>\n",
       "      <td>-0.133372</td>\n",
       "      <td>-0.116109</td>\n",
       "      <td>0.628312</td>\n",
       "      <td>-0.020530</td>\n",
       "      <td>-0.161860</td>\n",
       "      <td>0.360133</td>\n",
       "      <td>-0.021741</td>\n",
       "    </tr>\n",
       "    <tr>\n",
       "      <th>CASH_ADVANCE_TRX</th>\n",
       "      <td>0.385152</td>\n",
       "      <td>0.141555</td>\n",
       "      <td>-0.067175</td>\n",
       "      <td>-0.046212</td>\n",
       "      <td>-0.073999</td>\n",
       "      <td>0.656498</td>\n",
       "      <td>-0.203478</td>\n",
       "      <td>-0.069088</td>\n",
       "      <td>-0.169207</td>\n",
       "      <td>0.799561</td>\n",
       "      <td>...</td>\n",
       "      <td>0.255278</td>\n",
       "      <td>0.109185</td>\n",
       "      <td>-0.169784</td>\n",
       "      <td>-0.043421</td>\n",
       "      <td>-0.065697</td>\n",
       "      <td>0.633295</td>\n",
       "      <td>-0.019927</td>\n",
       "      <td>-0.146571</td>\n",
       "      <td>0.252616</td>\n",
       "      <td>-0.016027</td>\n",
       "    </tr>\n",
       "    <tr>\n",
       "      <th>PURCHASES_TRX</th>\n",
       "      <td>0.154338</td>\n",
       "      <td>0.189626</td>\n",
       "      <td>0.689561</td>\n",
       "      <td>0.545523</td>\n",
       "      <td>0.628108</td>\n",
       "      <td>-0.075850</td>\n",
       "      <td>0.568430</td>\n",
       "      <td>0.544869</td>\n",
       "      <td>0.529975</td>\n",
       "      <td>-0.131168</td>\n",
       "      <td>...</td>\n",
       "      <td>0.370832</td>\n",
       "      <td>0.095858</td>\n",
       "      <td>0.162066</td>\n",
       "      <td>0.121874</td>\n",
       "      <td>0.682583</td>\n",
       "      <td>-0.083389</td>\n",
       "      <td>-0.110778</td>\n",
       "      <td>-0.032813</td>\n",
       "      <td>-0.043729</td>\n",
       "      <td>0.013570</td>\n",
       "    </tr>\n",
       "    <tr>\n",
       "      <th>CREDIT_LIMIT</th>\n",
       "      <td>0.531320</td>\n",
       "      <td>0.096124</td>\n",
       "      <td>0.356991</td>\n",
       "      <td>0.319743</td>\n",
       "      <td>0.256533</td>\n",
       "      <td>0.304008</td>\n",
       "      <td>0.119908</td>\n",
       "      <td>0.295090</td>\n",
       "      <td>0.060851</td>\n",
       "      <td>0.132591</td>\n",
       "      <td>...</td>\n",
       "      <td>0.421895</td>\n",
       "      <td>0.125167</td>\n",
       "      <td>0.055727</td>\n",
       "      <td>0.139486</td>\n",
       "      <td>0.353646</td>\n",
       "      <td>0.285141</td>\n",
       "      <td>0.111090</td>\n",
       "      <td>0.241759</td>\n",
       "      <td>-0.129195</td>\n",
       "      <td>0.011378</td>\n",
       "    </tr>\n",
       "    <tr>\n",
       "      <th>PAYMENTS</th>\n",
       "      <td>0.322802</td>\n",
       "      <td>0.065008</td>\n",
       "      <td>0.603264</td>\n",
       "      <td>0.567292</td>\n",
       "      <td>0.384084</td>\n",
       "      <td>0.453238</td>\n",
       "      <td>0.103464</td>\n",
       "      <td>0.243537</td>\n",
       "      <td>0.085551</td>\n",
       "      <td>0.183192</td>\n",
       "      <td>...</td>\n",
       "      <td>1.000000</td>\n",
       "      <td>0.125046</td>\n",
       "      <td>0.112138</td>\n",
       "      <td>0.106136</td>\n",
       "      <td>0.596495</td>\n",
       "      <td>0.415698</td>\n",
       "      <td>0.229604</td>\n",
       "      <td>0.236443</td>\n",
       "      <td>0.028808</td>\n",
       "      <td>0.037262</td>\n",
       "    </tr>\n",
       "    <tr>\n",
       "      <th>MINIMUM_PAYMENTS</th>\n",
       "      <td>0.394282</td>\n",
       "      <td>0.114249</td>\n",
       "      <td>0.093515</td>\n",
       "      <td>0.048597</td>\n",
       "      <td>0.131687</td>\n",
       "      <td>0.139223</td>\n",
       "      <td>0.002976</td>\n",
       "      <td>-0.029963</td>\n",
       "      <td>0.029590</td>\n",
       "      <td>0.097898</td>\n",
       "      <td>...</td>\n",
       "      <td>0.125046</td>\n",
       "      <td>1.000000</td>\n",
       "      <td>-0.139674</td>\n",
       "      <td>0.057257</td>\n",
       "      <td>0.091797</td>\n",
       "      <td>0.127637</td>\n",
       "      <td>0.012238</td>\n",
       "      <td>0.026959</td>\n",
       "      <td>0.307786</td>\n",
       "      <td>-0.022063</td>\n",
       "    </tr>\n",
       "    <tr>\n",
       "      <th>PRC_FULL_PAYMENT</th>\n",
       "      <td>-0.318959</td>\n",
       "      <td>-0.095082</td>\n",
       "      <td>0.180379</td>\n",
       "      <td>0.132763</td>\n",
       "      <td>0.182569</td>\n",
       "      <td>-0.152935</td>\n",
       "      <td>0.305802</td>\n",
       "      <td>0.157531</td>\n",
       "      <td>0.250087</td>\n",
       "      <td>-0.249773</td>\n",
       "      <td>...</td>\n",
       "      <td>0.112138</td>\n",
       "      <td>-0.139674</td>\n",
       "      <td>1.000000</td>\n",
       "      <td>-0.016486</td>\n",
       "      <td>0.181778</td>\n",
       "      <td>-0.151365</td>\n",
       "      <td>-0.043973</td>\n",
       "      <td>0.045465</td>\n",
       "      <td>-0.415619</td>\n",
       "      <td>0.018566</td>\n",
       "    </tr>\n",
       "    <tr>\n",
       "      <th>TENURE</th>\n",
       "      <td>0.072692</td>\n",
       "      <td>0.119776</td>\n",
       "      <td>0.086288</td>\n",
       "      <td>0.064150</td>\n",
       "      <td>0.086143</td>\n",
       "      <td>-0.068312</td>\n",
       "      <td>0.061506</td>\n",
       "      <td>0.082466</td>\n",
       "      <td>0.073275</td>\n",
       "      <td>-0.133372</td>\n",
       "      <td>...</td>\n",
       "      <td>0.106136</td>\n",
       "      <td>0.057257</td>\n",
       "      <td>-0.016486</td>\n",
       "      <td>1.000000</td>\n",
       "      <td>0.044288</td>\n",
       "      <td>-0.177661</td>\n",
       "      <td>-0.054746</td>\n",
       "      <td>-0.068370</td>\n",
       "      <td>0.024577</td>\n",
       "      <td>0.000330</td>\n",
       "    </tr>\n",
       "    <tr>\n",
       "      <th>Average_Monthly_Purchase</th>\n",
       "      <td>0.179711</td>\n",
       "      <td>0.131281</td>\n",
       "      <td>0.995845</td>\n",
       "      <td>0.913060</td>\n",
       "      <td>0.677024</td>\n",
       "      <td>-0.047502</td>\n",
       "      <td>0.395337</td>\n",
       "      <td>0.499711</td>\n",
       "      <td>0.314136</td>\n",
       "      <td>-0.116109</td>\n",
       "      <td>...</td>\n",
       "      <td>0.596495</td>\n",
       "      <td>0.091797</td>\n",
       "      <td>0.181778</td>\n",
       "      <td>0.044288</td>\n",
       "      <td>1.000000</td>\n",
       "      <td>-0.045753</td>\n",
       "      <td>0.225737</td>\n",
       "      <td>-0.000340</td>\n",
       "      <td>-0.057043</td>\n",
       "      <td>0.016263</td>\n",
       "    </tr>\n",
       "    <tr>\n",
       "      <th>Monthly_CashAdvance</th>\n",
       "      <td>0.475431</td>\n",
       "      <td>0.086020</td>\n",
       "      <td>-0.055473</td>\n",
       "      <td>-0.034545</td>\n",
       "      <td>-0.067782</td>\n",
       "      <td>0.976364</td>\n",
       "      <td>-0.215786</td>\n",
       "      <td>-0.089034</td>\n",
       "      <td>-0.179333</td>\n",
       "      <td>0.628312</td>\n",
       "      <td>...</td>\n",
       "      <td>0.415698</td>\n",
       "      <td>0.127637</td>\n",
       "      <td>-0.151365</td>\n",
       "      <td>-0.177661</td>\n",
       "      <td>-0.045753</td>\n",
       "      <td>1.000000</td>\n",
       "      <td>0.021917</td>\n",
       "      <td>0.384969</td>\n",
       "      <td>0.211180</td>\n",
       "      <td>-0.004256</td>\n",
       "    </tr>\n",
       "    <tr>\n",
       "      <th>AVG_AMT_PER_PURCHASE</th>\n",
       "      <td>0.044953</td>\n",
       "      <td>-0.091833</td>\n",
       "      <td>0.216188</td>\n",
       "      <td>0.238748</td>\n",
       "      <td>0.065930</td>\n",
       "      <td>0.020150</td>\n",
       "      <td>-0.250120</td>\n",
       "      <td>-0.015402</td>\n",
       "      <td>-0.239631</td>\n",
       "      <td>-0.020530</td>\n",
       "      <td>...</td>\n",
       "      <td>0.229604</td>\n",
       "      <td>0.012238</td>\n",
       "      <td>-0.043973</td>\n",
       "      <td>-0.054746</td>\n",
       "      <td>0.225737</td>\n",
       "      <td>0.021917</td>\n",
       "      <td>1.000000</td>\n",
       "      <td>0.081713</td>\n",
       "      <td>-0.012373</td>\n",
       "      <td>0.002239</td>\n",
       "    </tr>\n",
       "    <tr>\n",
       "      <th>AVG_CASH_ADVANCE_PER_PURCHASE</th>\n",
       "      <td>0.123739</td>\n",
       "      <td>-0.151270</td>\n",
       "      <td>-0.002055</td>\n",
       "      <td>-0.007964</td>\n",
       "      <td>0.009789</td>\n",
       "      <td>0.362811</td>\n",
       "      <td>-0.054391</td>\n",
       "      <td>-0.053703</td>\n",
       "      <td>-0.043198</td>\n",
       "      <td>-0.161860</td>\n",
       "      <td>...</td>\n",
       "      <td>0.236443</td>\n",
       "      <td>0.026959</td>\n",
       "      <td>0.045465</td>\n",
       "      <td>-0.068370</td>\n",
       "      <td>-0.000340</td>\n",
       "      <td>0.384969</td>\n",
       "      <td>0.081713</td>\n",
       "      <td>1.000000</td>\n",
       "      <td>-0.094112</td>\n",
       "      <td>0.053399</td>\n",
       "    </tr>\n",
       "    <tr>\n",
       "      <th>Limit_Usage</th>\n",
       "      <td>0.503556</td>\n",
       "      <td>0.404650</td>\n",
       "      <td>-0.057411</td>\n",
       "      <td>-0.042214</td>\n",
       "      <td>-0.058266</td>\n",
       "      <td>0.215199</td>\n",
       "      <td>-0.201788</td>\n",
       "      <td>-0.092010</td>\n",
       "      <td>-0.161424</td>\n",
       "      <td>0.360133</td>\n",
       "      <td>...</td>\n",
       "      <td>0.028808</td>\n",
       "      <td>0.307786</td>\n",
       "      <td>-0.415619</td>\n",
       "      <td>0.024577</td>\n",
       "      <td>-0.057043</td>\n",
       "      <td>0.211180</td>\n",
       "      <td>-0.012373</td>\n",
       "      <td>-0.094112</td>\n",
       "      <td>1.000000</td>\n",
       "      <td>-0.054458</td>\n",
       "    </tr>\n",
       "    <tr>\n",
       "      <th>PtoMP</th>\n",
       "      <td>-0.039302</td>\n",
       "      <td>-0.088628</td>\n",
       "      <td>0.016721</td>\n",
       "      <td>0.010249</td>\n",
       "      <td>0.020694</td>\n",
       "      <td>-0.003291</td>\n",
       "      <td>0.011536</td>\n",
       "      <td>-0.004466</td>\n",
       "      <td>0.018024</td>\n",
       "      <td>-0.021741</td>\n",
       "      <td>...</td>\n",
       "      <td>0.037262</td>\n",
       "      <td>-0.022063</td>\n",
       "      <td>0.018566</td>\n",
       "      <td>0.000330</td>\n",
       "      <td>0.016263</td>\n",
       "      <td>-0.004256</td>\n",
       "      <td>0.002239</td>\n",
       "      <td>0.053399</td>\n",
       "      <td>-0.054458</td>\n",
       "      <td>1.000000</td>\n",
       "    </tr>\n",
       "  </tbody>\n",
       "</table>\n",
       "<p>23 rows × 23 columns</p>\n",
       "</div>"
      ],
      "text/plain": [
       "                                   BALANCE  BALANCE_FREQUENCY  PURCHASES  \\\n",
       "BALANCE                           1.000000           0.322412   0.181261   \n",
       "BALANCE_FREQUENCY                 0.322412           1.000000   0.133674   \n",
       "PURCHASES                         0.181261           0.133674   1.000000   \n",
       "ONEOFF_PURCHASES                  0.164350           0.104323   0.916845   \n",
       "INSTALLMENTS_PURCHASES            0.126469           0.124292   0.679896   \n",
       "CASH_ADVANCE                      0.496692           0.099388  -0.051474   \n",
       "PURCHASES_FREQUENCY              -0.077944           0.229715   0.393017   \n",
       "ONEOFF_PURCHASES_FREQUENCY        0.073166           0.202415   0.498430   \n",
       "PURCHASES_INSTALLMENTS_FREQUENCY -0.063186           0.176079   0.315567   \n",
       "CASH_ADVANCE_FREQUENCY            0.449218           0.191873  -0.120143   \n",
       "CASH_ADVANCE_TRX                  0.385152           0.141555  -0.067175   \n",
       "PURCHASES_TRX                     0.154338           0.189626   0.689561   \n",
       "CREDIT_LIMIT                      0.531320           0.096124   0.356991   \n",
       "PAYMENTS                          0.322802           0.065008   0.603264   \n",
       "MINIMUM_PAYMENTS                  0.394282           0.114249   0.093515   \n",
       "PRC_FULL_PAYMENT                 -0.318959          -0.095082   0.180379   \n",
       "TENURE                            0.072692           0.119776   0.086288   \n",
       "Average_Monthly_Purchase          0.179711           0.131281   0.995845   \n",
       "Monthly_CashAdvance               0.475431           0.086020  -0.055473   \n",
       "AVG_AMT_PER_PURCHASE              0.044953          -0.091833   0.216188   \n",
       "AVG_CASH_ADVANCE_PER_PURCHASE     0.123739          -0.151270  -0.002055   \n",
       "Limit_Usage                       0.503556           0.404650  -0.057411   \n",
       "PtoMP                            -0.039302          -0.088628   0.016721   \n",
       "\n",
       "                                  ONEOFF_PURCHASES  INSTALLMENTS_PURCHASES  \\\n",
       "BALANCE                                   0.164350                0.126469   \n",
       "BALANCE_FREQUENCY                         0.104323                0.124292   \n",
       "PURCHASES                                 0.916845                0.679896   \n",
       "ONEOFF_PURCHASES                          1.000000                0.330622   \n",
       "INSTALLMENTS_PURCHASES                    0.330622                1.000000   \n",
       "CASH_ADVANCE                             -0.031326               -0.064244   \n",
       "PURCHASES_FREQUENCY                       0.264937                0.442418   \n",
       "ONEOFF_PURCHASES_FREQUENCY                0.524891                0.214042   \n",
       "PURCHASES_INSTALLMENTS_FREQUENCY          0.127729                0.511351   \n",
       "CASH_ADVANCE_FREQUENCY                   -0.082628               -0.132318   \n",
       "CASH_ADVANCE_TRX                         -0.046212               -0.073999   \n",
       "PURCHASES_TRX                             0.545523                0.628108   \n",
       "CREDIT_LIMIT                              0.319743                0.256533   \n",
       "PAYMENTS                                  0.567292                0.384084   \n",
       "MINIMUM_PAYMENTS                          0.048597                0.131687   \n",
       "PRC_FULL_PAYMENT                          0.132763                0.182569   \n",
       "TENURE                                    0.064150                0.086143   \n",
       "Average_Monthly_Purchase                  0.913060                0.677024   \n",
       "Monthly_CashAdvance                      -0.034545               -0.067782   \n",
       "AVG_AMT_PER_PURCHASE                      0.238748                0.065930   \n",
       "AVG_CASH_ADVANCE_PER_PURCHASE            -0.007964                0.009789   \n",
       "Limit_Usage                              -0.042214               -0.058266   \n",
       "PtoMP                                     0.010249                0.020694   \n",
       "\n",
       "                                  CASH_ADVANCE  PURCHASES_FREQUENCY  \\\n",
       "BALANCE                               0.496692            -0.077944   \n",
       "BALANCE_FREQUENCY                     0.099388             0.229715   \n",
       "PURCHASES                            -0.051474             0.393017   \n",
       "ONEOFF_PURCHASES                     -0.031326             0.264937   \n",
       "INSTALLMENTS_PURCHASES               -0.064244             0.442418   \n",
       "CASH_ADVANCE                          1.000000            -0.215507   \n",
       "PURCHASES_FREQUENCY                  -0.215507             1.000000   \n",
       "ONEOFF_PURCHASES_FREQUENCY           -0.086754             0.501343   \n",
       "PURCHASES_INSTALLMENTS_FREQUENCY     -0.177070             0.862934   \n",
       "CASH_ADVANCE_FREQUENCY                0.628522            -0.308478   \n",
       "CASH_ADVANCE_TRX                      0.656498            -0.203478   \n",
       "PURCHASES_TRX                        -0.075850             0.568430   \n",
       "CREDIT_LIMIT                          0.304008             0.119908   \n",
       "PAYMENTS                              0.453238             0.103464   \n",
       "MINIMUM_PAYMENTS                      0.139223             0.002976   \n",
       "PRC_FULL_PAYMENT                     -0.152935             0.305802   \n",
       "TENURE                               -0.068312             0.061506   \n",
       "Average_Monthly_Purchase             -0.047502             0.395337   \n",
       "Monthly_CashAdvance                   0.976364            -0.215786   \n",
       "AVG_AMT_PER_PURCHASE                  0.020150            -0.250120   \n",
       "AVG_CASH_ADVANCE_PER_PURCHASE         0.362811            -0.054391   \n",
       "Limit_Usage                           0.215199            -0.201788   \n",
       "PtoMP                                -0.003291             0.011536   \n",
       "\n",
       "                                  ONEOFF_PURCHASES_FREQUENCY  \\\n",
       "BALANCE                                             0.073166   \n",
       "BALANCE_FREQUENCY                                   0.202415   \n",
       "PURCHASES                                           0.498430   \n",
       "ONEOFF_PURCHASES                                    0.524891   \n",
       "INSTALLMENTS_PURCHASES                              0.214042   \n",
       "CASH_ADVANCE                                       -0.086754   \n",
       "PURCHASES_FREQUENCY                                 0.501343   \n",
       "ONEOFF_PURCHASES_FREQUENCY                          1.000000   \n",
       "PURCHASES_INSTALLMENTS_FREQUENCY                    0.142329   \n",
       "CASH_ADVANCE_FREQUENCY                             -0.111716   \n",
       "CASH_ADVANCE_TRX                                   -0.069088   \n",
       "PURCHASES_TRX                                       0.544869   \n",
       "CREDIT_LIMIT                                        0.295090   \n",
       "PAYMENTS                                            0.243537   \n",
       "MINIMUM_PAYMENTS                                   -0.029963   \n",
       "PRC_FULL_PAYMENT                                    0.157531   \n",
       "TENURE                                              0.082466   \n",
       "Average_Monthly_Purchase                            0.499711   \n",
       "Monthly_CashAdvance                                -0.089034   \n",
       "AVG_AMT_PER_PURCHASE                               -0.015402   \n",
       "AVG_CASH_ADVANCE_PER_PURCHASE                      -0.053703   \n",
       "Limit_Usage                                        -0.092010   \n",
       "PtoMP                                              -0.004466   \n",
       "\n",
       "                                  PURCHASES_INSTALLMENTS_FREQUENCY  \\\n",
       "BALANCE                                                  -0.063186   \n",
       "BALANCE_FREQUENCY                                         0.176079   \n",
       "PURCHASES                                                 0.315567   \n",
       "ONEOFF_PURCHASES                                          0.127729   \n",
       "INSTALLMENTS_PURCHASES                                    0.511351   \n",
       "CASH_ADVANCE                                             -0.177070   \n",
       "PURCHASES_FREQUENCY                                       0.862934   \n",
       "ONEOFF_PURCHASES_FREQUENCY                                0.142329   \n",
       "PURCHASES_INSTALLMENTS_FREQUENCY                          1.000000   \n",
       "CASH_ADVANCE_FREQUENCY                                   -0.262958   \n",
       "CASH_ADVANCE_TRX                                         -0.169207   \n",
       "PURCHASES_TRX                                             0.529975   \n",
       "CREDIT_LIMIT                                              0.060851   \n",
       "PAYMENTS                                                  0.085551   \n",
       "MINIMUM_PAYMENTS                                          0.029590   \n",
       "PRC_FULL_PAYMENT                                          0.250087   \n",
       "TENURE                                                    0.073275   \n",
       "Average_Monthly_Purchase                                  0.314136   \n",
       "Monthly_CashAdvance                                      -0.179333   \n",
       "AVG_AMT_PER_PURCHASE                                     -0.239631   \n",
       "AVG_CASH_ADVANCE_PER_PURCHASE                            -0.043198   \n",
       "Limit_Usage                                              -0.161424   \n",
       "PtoMP                                                     0.018024   \n",
       "\n",
       "                                  CASH_ADVANCE_FREQUENCY  ...  PAYMENTS  \\\n",
       "BALANCE                                         0.449218  ...  0.322802   \n",
       "BALANCE_FREQUENCY                               0.191873  ...  0.065008   \n",
       "PURCHASES                                      -0.120143  ...  0.603264   \n",
       "ONEOFF_PURCHASES                               -0.082628  ...  0.567292   \n",
       "INSTALLMENTS_PURCHASES                         -0.132318  ...  0.384084   \n",
       "CASH_ADVANCE                                    0.628522  ...  0.453238   \n",
       "PURCHASES_FREQUENCY                            -0.308478  ...  0.103464   \n",
       "ONEOFF_PURCHASES_FREQUENCY                     -0.111716  ...  0.243537   \n",
       "PURCHASES_INSTALLMENTS_FREQUENCY               -0.262958  ...  0.085551   \n",
       "CASH_ADVANCE_FREQUENCY                          1.000000  ...  0.183192   \n",
       "CASH_ADVANCE_TRX                                0.799561  ...  0.255278   \n",
       "PURCHASES_TRX                                  -0.131168  ...  0.370832   \n",
       "CREDIT_LIMIT                                    0.132591  ...  0.421895   \n",
       "PAYMENTS                                        0.183192  ...  1.000000   \n",
       "MINIMUM_PAYMENTS                                0.097898  ...  0.125046   \n",
       "PRC_FULL_PAYMENT                               -0.249773  ...  0.112138   \n",
       "TENURE                                         -0.133372  ...  0.106136   \n",
       "Average_Monthly_Purchase                       -0.116109  ...  0.596495   \n",
       "Monthly_CashAdvance                             0.628312  ...  0.415698   \n",
       "AVG_AMT_PER_PURCHASE                           -0.020530  ...  0.229604   \n",
       "AVG_CASH_ADVANCE_PER_PURCHASE                  -0.161860  ...  0.236443   \n",
       "Limit_Usage                                     0.360133  ...  0.028808   \n",
       "PtoMP                                          -0.021741  ...  0.037262   \n",
       "\n",
       "                                  MINIMUM_PAYMENTS  PRC_FULL_PAYMENT  \\\n",
       "BALANCE                                   0.394282         -0.318959   \n",
       "BALANCE_FREQUENCY                         0.114249         -0.095082   \n",
       "PURCHASES                                 0.093515          0.180379   \n",
       "ONEOFF_PURCHASES                          0.048597          0.132763   \n",
       "INSTALLMENTS_PURCHASES                    0.131687          0.182569   \n",
       "CASH_ADVANCE                              0.139223         -0.152935   \n",
       "PURCHASES_FREQUENCY                       0.002976          0.305802   \n",
       "ONEOFF_PURCHASES_FREQUENCY               -0.029963          0.157531   \n",
       "PURCHASES_INSTALLMENTS_FREQUENCY          0.029590          0.250087   \n",
       "CASH_ADVANCE_FREQUENCY                    0.097898         -0.249773   \n",
       "CASH_ADVANCE_TRX                          0.109185         -0.169784   \n",
       "PURCHASES_TRX                             0.095858          0.162066   \n",
       "CREDIT_LIMIT                              0.125167          0.055727   \n",
       "PAYMENTS                                  0.125046          0.112138   \n",
       "MINIMUM_PAYMENTS                          1.000000         -0.139674   \n",
       "PRC_FULL_PAYMENT                         -0.139674          1.000000   \n",
       "TENURE                                    0.057257         -0.016486   \n",
       "Average_Monthly_Purchase                  0.091797          0.181778   \n",
       "Monthly_CashAdvance                       0.127637         -0.151365   \n",
       "AVG_AMT_PER_PURCHASE                      0.012238         -0.043973   \n",
       "AVG_CASH_ADVANCE_PER_PURCHASE             0.026959          0.045465   \n",
       "Limit_Usage                               0.307786         -0.415619   \n",
       "PtoMP                                    -0.022063          0.018566   \n",
       "\n",
       "                                    TENURE  Average_Monthly_Purchase  \\\n",
       "BALANCE                           0.072692                  0.179711   \n",
       "BALANCE_FREQUENCY                 0.119776                  0.131281   \n",
       "PURCHASES                         0.086288                  0.995845   \n",
       "ONEOFF_PURCHASES                  0.064150                  0.913060   \n",
       "INSTALLMENTS_PURCHASES            0.086143                  0.677024   \n",
       "CASH_ADVANCE                     -0.068312                 -0.047502   \n",
       "PURCHASES_FREQUENCY               0.061506                  0.395337   \n",
       "ONEOFF_PURCHASES_FREQUENCY        0.082466                  0.499711   \n",
       "PURCHASES_INSTALLMENTS_FREQUENCY  0.073275                  0.314136   \n",
       "CASH_ADVANCE_FREQUENCY           -0.133372                 -0.116109   \n",
       "CASH_ADVANCE_TRX                 -0.043421                 -0.065697   \n",
       "PURCHASES_TRX                     0.121874                  0.682583   \n",
       "CREDIT_LIMIT                      0.139486                  0.353646   \n",
       "PAYMENTS                          0.106136                  0.596495   \n",
       "MINIMUM_PAYMENTS                  0.057257                  0.091797   \n",
       "PRC_FULL_PAYMENT                 -0.016486                  0.181778   \n",
       "TENURE                            1.000000                  0.044288   \n",
       "Average_Monthly_Purchase          0.044288                  1.000000   \n",
       "Monthly_CashAdvance              -0.177661                 -0.045753   \n",
       "AVG_AMT_PER_PURCHASE             -0.054746                  0.225737   \n",
       "AVG_CASH_ADVANCE_PER_PURCHASE    -0.068370                 -0.000340   \n",
       "Limit_Usage                       0.024577                 -0.057043   \n",
       "PtoMP                             0.000330                  0.016263   \n",
       "\n",
       "                                  Monthly_CashAdvance  AVG_AMT_PER_PURCHASE  \\\n",
       "BALANCE                                      0.475431              0.044953   \n",
       "BALANCE_FREQUENCY                            0.086020             -0.091833   \n",
       "PURCHASES                                   -0.055473              0.216188   \n",
       "ONEOFF_PURCHASES                            -0.034545              0.238748   \n",
       "INSTALLMENTS_PURCHASES                      -0.067782              0.065930   \n",
       "CASH_ADVANCE                                 0.976364              0.020150   \n",
       "PURCHASES_FREQUENCY                         -0.215786             -0.250120   \n",
       "ONEOFF_PURCHASES_FREQUENCY                  -0.089034             -0.015402   \n",
       "PURCHASES_INSTALLMENTS_FREQUENCY            -0.179333             -0.239631   \n",
       "CASH_ADVANCE_FREQUENCY                       0.628312             -0.020530   \n",
       "CASH_ADVANCE_TRX                             0.633295             -0.019927   \n",
       "PURCHASES_TRX                               -0.083389             -0.110778   \n",
       "CREDIT_LIMIT                                 0.285141              0.111090   \n",
       "PAYMENTS                                     0.415698              0.229604   \n",
       "MINIMUM_PAYMENTS                             0.127637              0.012238   \n",
       "PRC_FULL_PAYMENT                            -0.151365             -0.043973   \n",
       "TENURE                                      -0.177661             -0.054746   \n",
       "Average_Monthly_Purchase                    -0.045753              0.225737   \n",
       "Monthly_CashAdvance                          1.000000              0.021917   \n",
       "AVG_AMT_PER_PURCHASE                         0.021917              1.000000   \n",
       "AVG_CASH_ADVANCE_PER_PURCHASE                0.384969              0.081713   \n",
       "Limit_Usage                                  0.211180             -0.012373   \n",
       "PtoMP                                       -0.004256              0.002239   \n",
       "\n",
       "                                  AVG_CASH_ADVANCE_PER_PURCHASE  Limit_Usage  \\\n",
       "BALANCE                                                0.123739     0.503556   \n",
       "BALANCE_FREQUENCY                                     -0.151270     0.404650   \n",
       "PURCHASES                                             -0.002055    -0.057411   \n",
       "ONEOFF_PURCHASES                                      -0.007964    -0.042214   \n",
       "INSTALLMENTS_PURCHASES                                 0.009789    -0.058266   \n",
       "CASH_ADVANCE                                           0.362811     0.215199   \n",
       "PURCHASES_FREQUENCY                                   -0.054391    -0.201788   \n",
       "ONEOFF_PURCHASES_FREQUENCY                            -0.053703    -0.092010   \n",
       "PURCHASES_INSTALLMENTS_FREQUENCY                      -0.043198    -0.161424   \n",
       "CASH_ADVANCE_FREQUENCY                                -0.161860     0.360133   \n",
       "CASH_ADVANCE_TRX                                      -0.146571     0.252616   \n",
       "PURCHASES_TRX                                         -0.032813    -0.043729   \n",
       "CREDIT_LIMIT                                           0.241759    -0.129195   \n",
       "PAYMENTS                                               0.236443     0.028808   \n",
       "MINIMUM_PAYMENTS                                       0.026959     0.307786   \n",
       "PRC_FULL_PAYMENT                                       0.045465    -0.415619   \n",
       "TENURE                                                -0.068370     0.024577   \n",
       "Average_Monthly_Purchase                              -0.000340    -0.057043   \n",
       "Monthly_CashAdvance                                    0.384969     0.211180   \n",
       "AVG_AMT_PER_PURCHASE                                   0.081713    -0.012373   \n",
       "AVG_CASH_ADVANCE_PER_PURCHASE                          1.000000    -0.094112   \n",
       "Limit_Usage                                           -0.094112     1.000000   \n",
       "PtoMP                                                  0.053399    -0.054458   \n",
       "\n",
       "                                     PtoMP  \n",
       "BALANCE                          -0.039302  \n",
       "BALANCE_FREQUENCY                -0.088628  \n",
       "PURCHASES                         0.016721  \n",
       "ONEOFF_PURCHASES                  0.010249  \n",
       "INSTALLMENTS_PURCHASES            0.020694  \n",
       "CASH_ADVANCE                     -0.003291  \n",
       "PURCHASES_FREQUENCY               0.011536  \n",
       "ONEOFF_PURCHASES_FREQUENCY       -0.004466  \n",
       "PURCHASES_INSTALLMENTS_FREQUENCY  0.018024  \n",
       "CASH_ADVANCE_FREQUENCY           -0.021741  \n",
       "CASH_ADVANCE_TRX                 -0.016027  \n",
       "PURCHASES_TRX                     0.013570  \n",
       "CREDIT_LIMIT                      0.011378  \n",
       "PAYMENTS                          0.037262  \n",
       "MINIMUM_PAYMENTS                 -0.022063  \n",
       "PRC_FULL_PAYMENT                  0.018566  \n",
       "TENURE                            0.000330  \n",
       "Average_Monthly_Purchase          0.016263  \n",
       "Monthly_CashAdvance              -0.004256  \n",
       "AVG_AMT_PER_PURCHASE              0.002239  \n",
       "AVG_CASH_ADVANCE_PER_PURCHASE     0.053399  \n",
       "Limit_Usage                      -0.054458  \n",
       "PtoMP                             1.000000  \n",
       "\n",
       "[23 rows x 23 columns]"
      ]
     },
     "execution_count": 17,
     "metadata": {},
     "output_type": "execute_result"
    }
   ],
   "source": [
    "corelation = data.corr()\n",
    "corelation"
   ]
  },
  {
   "cell_type": "code",
   "execution_count": 18,
   "metadata": {},
   "outputs": [
    {
     "data": {
      "text/plain": [
       "<matplotlib.axes._subplots.AxesSubplot at 0x2550b864cf8>"
      ]
     },
     "execution_count": 18,
     "metadata": {},
     "output_type": "execute_result"
    },
    {
     "data": {
      "image/png": "[encoded data removed]",
      "text/plain": [
       "<Figure size 432x288 with 2 Axes>"
      ]
     },
     "metadata": {
      "needs_background": "light"
     },
     "output_type": "display_data"
    }
   ],
   "source": [
    "sns.heatmap(corelation,cmap='coolwarm')"
   ]
  },
  {
   "cell_type": "code",
   "execution_count": 19,
   "metadata": {},
   "outputs": [
    {
     "data": {
      "image/png": "[encoded data removed]",
      "text/plain": [
       "<Figure size 864x648 with 1 Axes>"
      ]
     },
     "metadata": {
      "needs_background": "light"
     },
     "output_type": "display_data"
    }
   ],
   "source": [
    "ax = data[['BALANCE_FREQUENCY', 'PURCHASES_FREQUENCY','ONEOFF_PURCHASES_FREQUENCY', 'PURCHASES_INSTALLMENTS_FREQUENCY','CASH_ADVANCE_FREQUENCY']].plot.kde(figsize=(12,9), bw_method=3)"
   ]
  },
  {
   "cell_type": "markdown",
   "metadata": {},
   "source": [
    "### Clustering"
   ]
  },
  {
   "cell_type": "code",
   "execution_count": 20,
   "metadata": {},
   "outputs": [],
   "source": [
    "from sklearn.preprocessing import StandardScaler\n",
    "scaler = StandardScaler()\n",
    "dataset = pd.read_csv(\"Data for Associate DS.csv\")\n",
    "dataset = dataset.drop(['CUST_ID'], axis =1)\n",
    "dataset['MINIMUM_PAYMENTS'] = dataset['MINIMUM_PAYMENTS'].fillna(dataset['MINIMUM_PAYMENTS'].mean())\n",
    "dataset['CREDIT_LIMIT'] = dataset['CREDIT_LIMIT'].fillna(dataset['MINIMUM_PAYMENTS'].mean())\n",
    "dataset = scaler.fit_transform(dataset)\n",
    "\n",
    "#datset.shape\n"
   ]
  },
  {
   "cell_type": "code",
   "execution_count": null,
   "metadata": {},
   "outputs": [],
   "source": []
  },
  {
   "cell_type": "code",
   "execution_count": 21,
   "metadata": {},
   "outputs": [
    {
     "data": {
      "text/plain": [
       "1.0000000000000002"
      ]
     },
     "execution_count": 21,
     "metadata": {},
     "output_type": "execute_result"
    }
   ],
   "source": [
    "from sklearn.decomposition import PCA\n",
    "pc=PCA(n_components=17)\n",
    "pca1=pc.fit(dataset)\n",
    "sum(pca1.explained_variance_ratio_)"
   ]
  },
  {
   "cell_type": "code",
   "execution_count": 22,
   "metadata": {},
   "outputs": [],
   "source": [
    "var_ratio={}\n",
    "for n in range(2,18):\n",
    "    pc=PCA(n_components=n)\n",
    "    pca1=pc.fit(dataset)\n",
    "    var_ratio[n]=sum(pca1.explained_variance_ratio_)"
   ]
  },
  {
   "cell_type": "code",
   "execution_count": 23,
   "metadata": {},
   "outputs": [
    {
     "data": {
      "text/plain": [
       "{2: 0.4759273904123887,\n",
       " 3: 0.5638442879830535,\n",
       " 4: 0.6386470293615863,\n",
       " 5: 0.7012736050832553,\n",
       " 6: 0.7587884695179349,\n",
       " 7: 0.8076493096304153,\n",
       " 8: 0.8502176858015407,\n",
       " 9: 0.8885067658718925,\n",
       " 10: 0.9193060381691535,\n",
       " 11: 0.943024919343588,\n",
       " 12: 0.960761188496962,\n",
       " 13: 0.9750252164309634,\n",
       " 14: 0.9871990535858006,\n",
       " 15: 0.9973289484227209,\n",
       " 16: 0.9999993147765223,\n",
       " 17: 1.0000000000000002}"
      ]
     },
     "execution_count": 23,
     "metadata": {},
     "output_type": "execute_result"
    }
   ],
   "source": [
    "var_ratio"
   ]
  },
  {
   "cell_type": "markdown",
   "metadata": {},
   "source": [
    "#### 9 components explaning us 90% thus 6 components will be chosen"
   ]
  },
  {
   "cell_type": "code",
   "execution_count": 24,
   "metadata": {},
   "outputs": [
    {
     "data": {
      "text/plain": [
       "12.90084541704702"
      ]
     },
     "execution_count": 24,
     "metadata": {},
     "output_type": "execute_result"
    }
   ],
   "source": [
    "pc=PCA(n_components=6)\n",
    "\n",
    "p=pc.fit(dataset)\n",
    "dataset.shape\n",
    "p.explained_variance_\n",
    "np.sum(p.explained_variance_)"
   ]
  },
  {
   "cell_type": "code",
   "execution_count": 25,
   "metadata": {},
   "outputs": [
    {
     "data": {
      "text/plain": [
       "<matplotlib.axes._subplots.AxesSubplot at 0x2550b9e1ef0>"
      ]
     },
     "execution_count": 25,
     "metadata": {},
     "output_type": "execute_result"
    },
    {
     "data": {
      "image/png": "[encoded data removed]",
      "text/plain": [
       "<Figure size 432x288 with 1 Axes>"
      ]
     },
     "metadata": {
      "needs_background": "light"
     },
     "output_type": "display_data"
    }
   ],
   "source": [
    "pd.Series(var_ratio).plot()"
   ]
  },
  {
   "cell_type": "code",
   "execution_count": 26,
   "metadata": {},
   "outputs": [],
   "source": [
    "pc_final=PCA(n_components=6).fit(dataset)\n",
    "\n",
    "reduced_cr=pc_final.fit_transform(dataset)"
   ]
  },
  {
   "cell_type": "code",
   "execution_count": 27,
   "metadata": {},
   "outputs": [
    {
     "data": {
      "text/html": [
       "<div>\n",
       "<style scoped>\n",
       "    .dataframe tbody tr th:only-of-type {\n",
       "        vertical-align: middle;\n",
       "    }\n",
       "\n",
       "    .dataframe tbody tr th {\n",
       "        vertical-align: top;\n",
       "    }\n",
       "\n",
       "    .dataframe thead th {\n",
       "        text-align: right;\n",
       "    }\n",
       "</style>\n",
       "<table border=\"1\" class=\"dataframe\">\n",
       "  <thead>\n",
       "    <tr style=\"text-align: right;\">\n",
       "      <th></th>\n",
       "      <th>0</th>\n",
       "      <th>1</th>\n",
       "      <th>2</th>\n",
       "      <th>3</th>\n",
       "      <th>4</th>\n",
       "      <th>5</th>\n",
       "    </tr>\n",
       "  </thead>\n",
       "  <tbody>\n",
       "    <tr>\n",
       "      <th>0</th>\n",
       "      <td>-1.682258</td>\n",
       "      <td>-1.076311</td>\n",
       "      <td>0.488636</td>\n",
       "      <td>0.665487</td>\n",
       "      <td>0.018643</td>\n",
       "      <td>0.051391</td>\n",
       "    </tr>\n",
       "    <tr>\n",
       "      <th>1</th>\n",
       "      <td>-1.138108</td>\n",
       "      <td>2.506575</td>\n",
       "      <td>0.601141</td>\n",
       "      <td>-0.120013</td>\n",
       "      <td>0.605483</td>\n",
       "      <td>-1.137334</td>\n",
       "    </tr>\n",
       "    <tr>\n",
       "      <th>2</th>\n",
       "      <td>0.969743</td>\n",
       "      <td>-0.383514</td>\n",
       "      <td>0.102137</td>\n",
       "      <td>1.209650</td>\n",
       "      <td>-2.173230</td>\n",
       "      <td>-0.217338</td>\n",
       "    </tr>\n",
       "    <tr>\n",
       "      <th>3</th>\n",
       "      <td>-0.873566</td>\n",
       "      <td>0.043211</td>\n",
       "      <td>1.459863</td>\n",
       "      <td>1.152285</td>\n",
       "      <td>0.295452</td>\n",
       "      <td>-0.124076</td>\n",
       "    </tr>\n",
       "    <tr>\n",
       "      <th>4</th>\n",
       "      <td>-1.599441</td>\n",
       "      <td>-0.688425</td>\n",
       "      <td>0.365264</td>\n",
       "      <td>0.990167</td>\n",
       "      <td>-0.486613</td>\n",
       "      <td>0.076025</td>\n",
       "    </tr>\n",
       "  </tbody>\n",
       "</table>\n",
       "</div>"
      ],
      "text/plain": [
       "          0         1         2         3         4         5\n",
       "0 -1.682258 -1.076311  0.488636  0.665487  0.018643  0.051391\n",
       "1 -1.138108  2.506575  0.601141 -0.120013  0.605483 -1.137334\n",
       "2  0.969743 -0.383514  0.102137  1.209650 -2.173230 -0.217338\n",
       "3 -0.873566  0.043211  1.459863  1.152285  0.295452 -0.124076\n",
       "4 -1.599441 -0.688425  0.365264  0.990167 -0.486613  0.076025"
      ]
     },
     "execution_count": 27,
     "metadata": {},
     "output_type": "execute_result"
    }
   ],
   "source": [
    "dataset1=pd.DataFrame(reduced_cr)\n",
    "dataset1.head()"
   ]
  },
  {
   "cell_type": "code",
   "execution_count": 28,
   "metadata": {},
   "outputs": [
    {
     "data": {
      "text/plain": [
       "(8950, 17)"
      ]
     },
     "execution_count": 28,
     "metadata": {},
     "output_type": "execute_result"
    }
   ],
   "source": [
    "dataset=pd.DataFrame(dataset)\n",
    "dataset.shape"
   ]
  },
  {
   "cell_type": "code",
   "execution_count": 29,
   "metadata": {},
   "outputs": [
    {
     "data": {
      "text/html": [
       "<div>\n",
       "<style scoped>\n",
       "    .dataframe tbody tr th:only-of-type {\n",
       "        vertical-align: middle;\n",
       "    }\n",
       "\n",
       "    .dataframe tbody tr th {\n",
       "        vertical-align: top;\n",
       "    }\n",
       "\n",
       "    .dataframe thead th {\n",
       "        text-align: right;\n",
       "    }\n",
       "</style>\n",
       "<table border=\"1\" class=\"dataframe\">\n",
       "  <thead>\n",
       "    <tr style=\"text-align: right;\">\n",
       "      <th></th>\n",
       "      <th>PC_0</th>\n",
       "      <th>PC_1</th>\n",
       "      <th>PC_2</th>\n",
       "      <th>PC_3</th>\n",
       "      <th>PC_4</th>\n",
       "      <th>PC_5</th>\n",
       "    </tr>\n",
       "  </thead>\n",
       "  <tbody>\n",
       "    <tr>\n",
       "      <th>0</th>\n",
       "      <td>0.101097</td>\n",
       "      <td>0.403954</td>\n",
       "      <td>-0.160096</td>\n",
       "      <td>0.283422</td>\n",
       "      <td>0.047538</td>\n",
       "      <td>0.039881</td>\n",
       "    </tr>\n",
       "    <tr>\n",
       "      <th>1</th>\n",
       "      <td>0.120064</td>\n",
       "      <td>0.130560</td>\n",
       "      <td>-0.420569</td>\n",
       "      <td>0.149721</td>\n",
       "      <td>-0.484522</td>\n",
       "      <td>0.035563</td>\n",
       "    </tr>\n",
       "    <tr>\n",
       "      <th>2</th>\n",
       "      <td>0.411633</td>\n",
       "      <td>0.041005</td>\n",
       "      <td>0.257957</td>\n",
       "      <td>0.039025</td>\n",
       "      <td>0.031441</td>\n",
       "      <td>0.176438</td>\n",
       "    </tr>\n",
       "    <tr>\n",
       "      <th>3</th>\n",
       "      <td>0.346400</td>\n",
       "      <td>0.062843</td>\n",
       "      <td>0.392180</td>\n",
       "      <td>0.078084</td>\n",
       "      <td>-0.155687</td>\n",
       "      <td>0.184778</td>\n",
       "    </tr>\n",
       "    <tr>\n",
       "      <th>4</th>\n",
       "      <td>0.336806</td>\n",
       "      <td>-0.018557</td>\n",
       "      <td>-0.110480</td>\n",
       "      <td>-0.051203</td>\n",
       "      <td>0.360339</td>\n",
       "      <td>0.077703</td>\n",
       "    </tr>\n",
       "    <tr>\n",
       "      <th>5</th>\n",
       "      <td>-0.023324</td>\n",
       "      <td>0.439242</td>\n",
       "      <td>-0.027314</td>\n",
       "      <td>-0.254567</td>\n",
       "      <td>0.096647</td>\n",
       "      <td>-0.146825</td>\n",
       "    </tr>\n",
       "    <tr>\n",
       "      <th>6</th>\n",
       "      <td>0.321484</td>\n",
       "      <td>-0.190791</td>\n",
       "      <td>-0.374702</td>\n",
       "      <td>-0.188967</td>\n",
       "      <td>-0.092536</td>\n",
       "      <td>-0.037320</td>\n",
       "    </tr>\n",
       "    <tr>\n",
       "      <th>7</th>\n",
       "      <td>0.294629</td>\n",
       "      <td>-0.017942</td>\n",
       "      <td>0.115153</td>\n",
       "      <td>0.027479</td>\n",
       "      <td>-0.531604</td>\n",
       "      <td>0.024819</td>\n",
       "    </tr>\n",
       "    <tr>\n",
       "      <th>8</th>\n",
       "      <td>0.274701</td>\n",
       "      <td>-0.178610</td>\n",
       "      <td>-0.473428</td>\n",
       "      <td>-0.215015</td>\n",
       "      <td>0.180131</td>\n",
       "      <td>-0.052463</td>\n",
       "    </tr>\n",
       "    <tr>\n",
       "      <th>9</th>\n",
       "      <td>-0.089122</td>\n",
       "      <td>0.434084</td>\n",
       "      <td>-0.109012</td>\n",
       "      <td>-0.264279</td>\n",
       "      <td>-0.137350</td>\n",
       "      <td>0.066021</td>\n",
       "    </tr>\n",
       "    <tr>\n",
       "      <th>10</th>\n",
       "      <td>-0.048636</td>\n",
       "      <td>0.419737</td>\n",
       "      <td>-0.115472</td>\n",
       "      <td>-0.326949</td>\n",
       "      <td>-0.078258</td>\n",
       "      <td>-0.057676</td>\n",
       "    </tr>\n",
       "    <tr>\n",
       "      <th>11</th>\n",
       "      <td>0.390687</td>\n",
       "      <td>-0.019420</td>\n",
       "      <td>-0.077302</td>\n",
       "      <td>-0.018182</td>\n",
       "      <td>-0.030222</td>\n",
       "      <td>0.103898</td>\n",
       "    </tr>\n",
       "    <tr>\n",
       "      <th>12</th>\n",
       "      <td>0.211728</td>\n",
       "      <td>0.238674</td>\n",
       "      <td>0.100205</td>\n",
       "      <td>0.131966</td>\n",
       "      <td>0.072846</td>\n",
       "      <td>-0.321793</td>\n",
       "    </tr>\n",
       "    <tr>\n",
       "      <th>13</th>\n",
       "      <td>0.266254</td>\n",
       "      <td>0.257455</td>\n",
       "      <td>0.276292</td>\n",
       "      <td>-0.114775</td>\n",
       "      <td>0.193858</td>\n",
       "      <td>-0.126819</td>\n",
       "    </tr>\n",
       "    <tr>\n",
       "      <th>14</th>\n",
       "      <td>0.060358</td>\n",
       "      <td>0.166968</td>\n",
       "      <td>-0.221643</td>\n",
       "      <td>0.402771</td>\n",
       "      <td>0.431442</td>\n",
       "      <td>0.276424</td>\n",
       "    </tr>\n",
       "    <tr>\n",
       "      <th>15</th>\n",
       "      <td>0.132105</td>\n",
       "      <td>-0.190032</td>\n",
       "      <td>0.124759</td>\n",
       "      <td>-0.424280</td>\n",
       "      <td>0.136041</td>\n",
       "      <td>-0.357599</td>\n",
       "    </tr>\n",
       "    <tr>\n",
       "      <th>16</th>\n",
       "      <td>0.081046</td>\n",
       "      <td>-0.004288</td>\n",
       "      <td>-0.064297</td>\n",
       "      <td>0.435452</td>\n",
       "      <td>-0.038913</td>\n",
       "      <td>-0.746401</td>\n",
       "    </tr>\n",
       "  </tbody>\n",
       "</table>\n",
       "</div>"
      ],
      "text/plain": [
       "        PC_0      PC_1      PC_2      PC_3      PC_4      PC_5\n",
       "0   0.101097  0.403954 -0.160096  0.283422  0.047538  0.039881\n",
       "1   0.120064  0.130560 -0.420569  0.149721 -0.484522  0.035563\n",
       "2   0.411633  0.041005  0.257957  0.039025  0.031441  0.176438\n",
       "3   0.346400  0.062843  0.392180  0.078084 -0.155687  0.184778\n",
       "4   0.336806 -0.018557 -0.110480 -0.051203  0.360339  0.077703\n",
       "5  -0.023324  0.439242 -0.027314 -0.254567  0.096647 -0.146825\n",
       "6   0.321484 -0.190791 -0.374702 -0.188967 -0.092536 -0.037320\n",
       "7   0.294629 -0.017942  0.115153  0.027479 -0.531604  0.024819\n",
       "8   0.274701 -0.178610 -0.473428 -0.215015  0.180131 -0.052463\n",
       "9  -0.089122  0.434084 -0.109012 -0.264279 -0.137350  0.066021\n",
       "10 -0.048636  0.419737 -0.115472 -0.326949 -0.078258 -0.057676\n",
       "11  0.390687 -0.019420 -0.077302 -0.018182 -0.030222  0.103898\n",
       "12  0.211728  0.238674  0.100205  0.131966  0.072846 -0.321793\n",
       "13  0.266254  0.257455  0.276292 -0.114775  0.193858 -0.126819\n",
       "14  0.060358  0.166968 -0.221643  0.402771  0.431442  0.276424\n",
       "15  0.132105 -0.190032  0.124759 -0.424280  0.136041 -0.357599\n",
       "16  0.081046 -0.004288 -0.064297  0.435452 -0.038913 -0.746401"
      ]
     },
     "execution_count": 29,
     "metadata": {},
     "output_type": "execute_result"
    }
   ],
   "source": [
    "col_list = dataset.columns\n",
    "pd.DataFrame(pc_final.components_.T, columns=['PC_' +str(i) for i in range(6)],index=col_list)"
   ]
  },
  {
   "cell_type": "code",
   "execution_count": 30,
   "metadata": {},
   "outputs": [
    {
     "data": {
      "text/plain": [
       "PC_0    0.272906\n",
       "PC_1    0.203021\n",
       "PC_2    0.087917\n",
       "PC_3    0.074803\n",
       "PC_4    0.062627\n",
       "PC_5    0.057515\n",
       "dtype: float64"
      ]
     },
     "execution_count": 30,
     "metadata": {},
     "output_type": "execute_result"
    }
   ],
   "source": [
    "pd.Series(pc_final.explained_variance_ratio_,index=['PC_'+ str(i) for i in range(6)])"
   ]
  },
  {
   "cell_type": "markdown",
   "metadata": {},
   "source": [
    "##### ELBOW METHOD FOR OPTIMUM NUMBER  OF CLUSTERS"
   ]
  },
  {
   "cell_type": "code",
   "execution_count": 31,
   "metadata": {},
   "outputs": [],
   "source": [
    "from sklearn.cluster import KMeans\n",
    "wcss = []\n",
    "cluster_list = range(1, 11)\n",
    "for i in cluster_list :\n",
    "    kmeans = KMeans(n_clusters = i, init = 'k-means++', max_iter = 300, n_init = 10, random_state = 40)\n",
    "    kmeans.fit(dataset1)\n",
    "    wcss.append(kmeans.inertia_)\n"
   ]
  },
  {
   "cell_type": "code",
   "execution_count": 32,
   "metadata": {},
   "outputs": [
    {
     "data": {
      "image/png": "[encoded data removed]",
      "text/plain": [
       "<Figure size 432x288 with 1 Axes>"
      ]
     },
     "metadata": {
      "needs_background": "light"
     },
     "output_type": "display_data"
    }
   ],
   "source": [
    "plt.plot(cluster_list, wcss)\n",
    "plt.title('Elbow Method')\n",
    "plt.xlabel('Clusters')\n",
    "plt.ylabel('WCSS')\n",
    "plt.show()"
   ]
  },
  {
   "cell_type": "code",
   "execution_count": 33,
   "metadata": {},
   "outputs": [
    {
     "data": {
      "image/png": "[encoded data removed]",
      "text/plain": [
       "<Figure size 432x288 with 1 Axes>"
      ]
     },
     "metadata": {
      "needs_background": "light"
     },
     "output_type": "display_data"
    }
   ],
   "source": [
    "from sklearn.metrics import silhouette_score\n",
    "silhouette_scores = [] \n",
    "\n",
    "for n_cluster in range(2, 11):\n",
    "    silhouette_scores.append(silhouette_score(dataset1, KMeans(n_clusters = n_cluster).fit_predict(dataset1))) \n",
    "    \n",
    "k = [2, 3, 4, 5, 6,7,8,9,10] \n",
    "plt.bar(k, silhouette_scores) \n",
    "plt.xlabel('Number of clusters', fontsize = 10) \n",
    "plt.ylabel('Silhouette Score', fontsize = 10) \n",
    "plt.show()"
   ]
  },
  {
   "cell_type": "code",
   "execution_count": 34,
   "metadata": {},
   "outputs": [
    {
     "data": {
      "text/plain": [
       "1    4066\n",
       "0    3294\n",
       "3    1223\n",
       "2     367\n",
       "dtype: int64"
      ]
     },
     "execution_count": 34,
     "metadata": {},
     "output_type": "execute_result"
    }
   ],
   "source": [
    "km = KMeans(n_clusters=4,random_state=123)\n",
    "km.fit(dataset1)\n",
    "km.labels_\n",
    "pd.Series(km.labels_).value_counts()"
   ]
  },
  {
   "cell_type": "code",
   "execution_count": 35,
   "metadata": {},
   "outputs": [
    {
     "data": {
      "text/plain": [
       "array([1, 3, 0, ..., 0, 1, 1])"
      ]
     },
     "execution_count": 35,
     "metadata": {},
     "output_type": "execute_result"
    }
   ],
   "source": [
    "km.labels_"
   ]
  },
  {
   "cell_type": "code",
   "execution_count": 36,
   "metadata": {},
   "outputs": [],
   "source": [
    "data[\"CLUSTER\"] = km.labels_"
   ]
  },
  {
   "cell_type": "code",
   "execution_count": 37,
   "metadata": {},
   "outputs": [
    {
     "data": {
      "text/html": [
       "<div>\n",
       "<style scoped>\n",
       "    .dataframe tbody tr th:only-of-type {\n",
       "        vertical-align: middle;\n",
       "    }\n",
       "\n",
       "    .dataframe tbody tr th {\n",
       "        vertical-align: top;\n",
       "    }\n",
       "\n",
       "    .dataframe thead th {\n",
       "        text-align: right;\n",
       "    }\n",
       "</style>\n",
       "<table border=\"1\" class=\"dataframe\">\n",
       "  <thead>\n",
       "    <tr style=\"text-align: right;\">\n",
       "      <th>CLUSTER</th>\n",
       "      <th>0</th>\n",
       "      <th>1</th>\n",
       "      <th>2</th>\n",
       "      <th>3</th>\n",
       "    </tr>\n",
       "  </thead>\n",
       "  <tbody>\n",
       "    <tr>\n",
       "      <th>Average_Monthly_Purchase</th>\n",
       "      <td>110.962764</td>\n",
       "      <td>25.409085</td>\n",
       "      <td>682.994486</td>\n",
       "      <td>42.341894</td>\n",
       "    </tr>\n",
       "    <tr>\n",
       "      <th>Monthly_CashAdvance</th>\n",
       "      <td>18.974839</td>\n",
       "      <td>52.641380</td>\n",
       "      <td>63.586059</td>\n",
       "      <td>405.947588</td>\n",
       "    </tr>\n",
       "    <tr>\n",
       "      <th>AVG_AMT_PER_PURCHASE</th>\n",
       "      <td>inf</td>\n",
       "      <td>inf</td>\n",
       "      <td>162.255474</td>\n",
       "      <td>95.473820</td>\n",
       "    </tr>\n",
       "    <tr>\n",
       "      <th>Limit_Usage</th>\n",
       "      <td>0.285306</td>\n",
       "      <td>0.397528</td>\n",
       "      <td>0.388046</td>\n",
       "      <td>0.639380</td>\n",
       "    </tr>\n",
       "    <tr>\n",
       "      <th>PtoMP</th>\n",
       "      <td>9.064901</td>\n",
       "      <td>9.749774</td>\n",
       "      <td>14.438780</td>\n",
       "      <td>4.964744</td>\n",
       "    </tr>\n",
       "    <tr>\n",
       "      <th>CREDIT_LIMIT</th>\n",
       "      <td>4254.924181</td>\n",
       "      <td>3314.957585</td>\n",
       "      <td>10022.752044</td>\n",
       "      <td>7399.022523</td>\n",
       "    </tr>\n",
       "    <tr>\n",
       "      <th>PURCHASES_TRX</th>\n",
       "      <td>23.393139</td>\n",
       "      <td>3.135022</td>\n",
       "      <td>89.373297</td>\n",
       "      <td>7.399019</td>\n",
       "    </tr>\n",
       "  </tbody>\n",
       "</table>\n",
       "</div>"
      ],
      "text/plain": [
       "CLUSTER                             0            1             2            3\n",
       "Average_Monthly_Purchase   110.962764    25.409085    682.994486    42.341894\n",
       "Monthly_CashAdvance         18.974839    52.641380     63.586059   405.947588\n",
       "AVG_AMT_PER_PURCHASE              inf          inf    162.255474    95.473820\n",
       "Limit_Usage                  0.285306     0.397528      0.388046     0.639380\n",
       "PtoMP                        9.064901     9.749774     14.438780     4.964744\n",
       "CREDIT_LIMIT              4254.924181  3314.957585  10022.752044  7399.022523\n",
       "PURCHASES_TRX               23.393139     3.135022     89.373297     7.399019"
      ]
     },
     "execution_count": 37,
     "metadata": {},
     "output_type": "execute_result"
    }
   ],
   "source": [
    "collist=['Average_Monthly_Purchase','Monthly_CashAdvance','AVG_AMT_PER_PURCHASE','Limit_Usage','PtoMP','CREDIT_LIMIT','PURCHASES_TRX']\n",
    "clus=data.groupby('CLUSTER')\\\n",
    ".apply(lambda x: x[collist].mean()).T\n",
    "clus"
   ]
  },
  {
   "cell_type": "code",
   "execution_count": 40,
   "metadata": {},
   "outputs": [
    {
     "data": {
      "text/plain": [
       "<matplotlib.legend.Legend at 0x255110c0128>"
      ]
     },
     "execution_count": 40,
     "metadata": {},
     "output_type": "execute_result"
    },
    {
     "data": {
      "image/png": "[encoded data removed]",
      "text/plain": [
       "<Figure size 1080x720 with 1 Axes>"
      ]
     },
     "metadata": {
      "needs_background": "light"
     },
     "output_type": "display_data"
    }
   ],
   "source": [
    "fig,ax=plt.subplots(figsize=(15,10))\n",
    "index=np.arange(len(clus.columns))\n",
    "\n",
    "purchase= np.log(clus.loc['Average_Monthly_Purchase',:].values)\n",
    "cash_advance=np.log(clus.loc['Monthly_CashAdvance',:].values)\n",
    "limit_usage=(clus.loc['Limit_Usage',:].values)\n",
    "payment=clus.loc['PtoMP',:].values\n",
    "\n",
    "bar_width=.10\n",
    "b1=plt.bar(index+2*bar_width,purchase,color='k',label='Avg purchase',width=bar_width)\n",
    "b2=plt.bar(index,cash_advance,color='b',label='Monthly cash advance',width=bar_width)\n",
    "b3=plt.bar(index+bar_width,limit_usage,color='m',label='limit_usage',width=bar_width)\n",
    "b4=plt.bar(index+3*bar_width,payment,color='c',label='Payment to minpayment ratio',width=bar_width)\n",
    "\n",
    "\n",
    "plt.xlabel(\"Cluster\")\n",
    "plt.title(\"Insights\")\n",
    "plt.xticks(index + bar_width, ('Cl-0', 'Cl-1', 'Cl-2', 'Cl-3'))\n",
    "plt.legend()"
   ]
  },
  {
   "cell_type": "markdown",
   "metadata": {},
   "source": [
    "#### cluster 2 has highest monthly average purchases and payment to min payment ratio\n",
    "#### cluster 3 has highest monthly cash advance and limit_usage\n",
    "#### cluster 0  has the lowest limit usage"
   ]
  },
  {
   "cell_type": "markdown",
   "metadata": {},
   "source": [
    "## statergy"
   ]
  },
  {
   "cell_type": "code",
   "execution_count": null,
   "metadata": {},
   "outputs": [],
   "source": []
  },
  {
   "cell_type": "markdown",
   "metadata": {},
   "source": [
    "### cluster 2 has most purchases and also has highest payment to minimum payment ratio. They also have a decent limit usage.Thus can be termed as loyal customers and needs to be retained. This cluster can be targeted by introducing loyality programs or  by awarding cashbacks for each transaction to promote more purchases."
   ]
  },
  {
   "cell_type": "markdown",
   "metadata": {},
   "source": [
    "### cluster 0 has the lowest limit usage. Thus to target this section we can provide more credit limit to this section with lower interest."
   ]
  },
  {
   "cell_type": "markdown",
   "metadata": {},
   "source": [
    "### cluster 3 has the highest monthly cash advance and also high limit usage. These are not the best type of customers a company would want. But to target this section offering lower interest rate can be an option. "
   ]
  },
  {
   "cell_type": "markdown",
   "metadata": {},
   "source": [
    "### cluster 1 has lowest avg purchases but decent limit usage and a good payment to min payment ratio. This cluster is around 45% of whole userbase. To promote transaction rewards and casbacks should be introduced."
   ]
  },
  {
   "cell_type": "code",
   "execution_count": null,
   "metadata": {},
   "outputs": [],
   "source": []
  }
 ],
 "metadata": {
  "kernelspec": {
   "display_name": "Python 3",
   "language": "python",
   "name": "python3"
  },
  "language_info": {
   "codemirror_mode": {
    "name": "ipython",
    "version": 3
   },
   "file_extension": ".py",
   "mimetype": "text/x-python",
   "name": "python",
   "nbconvert_exporter": "python",
   "pygments_lexer": "ipython3",
   "version": "3.7.3"
  }
 },
 "nbformat": 4,
 "nbformat_minor": 2
}
